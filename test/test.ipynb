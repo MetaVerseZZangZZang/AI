{
 "cells": [
  {
   "cell_type": "code",
   "execution_count": 4,
   "metadata": {
    "collapsed": true
   },
   "outputs": [],
   "source": [
    "import pdfkit\n",
    "import aspose.words as aw"
   ]
  },
  {
   "cell_type": "code",
   "execution_count": 13,
   "metadata": {},
   "outputs": [],
   "source": [
    "options = {\n",
    "  'margin-top': '0',\n",
    "  'margin-right': '0',\n",
    "  'margin-bottom': '0',\n",
    "  'margin-left': '0',\n",
    "  'disable-smart-shrinking': True,\n",
    "  'encoding': \"UTF-8\"\n",
    "}"
   ]
  },
  {
   "cell_type": "code",
   "execution_count": null,
   "metadata": {},
   "outputs": [],
   "source": [
    "import pdfkit\n",
    "\n",
    "\n",
    "class MyPdfKit(pdfkit.PDFKit):\n",
    "    def command(self, path=None):\n",
    "        return ['xvfb-run'] + super().command(path)\n",
    "\n",
    "def my_from_url:\n",
    "    r = MyPDFKit(url, 'url', ...)\n",
    "    return r.to_pdf(output_path)"
   ]
  },
  {
   "cell_type": "code",
   "execution_count": 14,
   "metadata": {},
   "outputs": [
    {
     "ename": "OSError",
     "evalue": "No wkhtmltopdf executable found: \"b''\"\nIf this file exists please check that this process can read it or you can pass path to it manually in method call, check README. Otherwise please install wkhtmltopdf - https://github.com/JazzCore/python-pdfkit/wiki/Installing-wkhtmltopdf",
     "output_type": "error",
     "traceback": [
      "\u001B[1;31m---------------------------------------------------------------------------\u001B[0m",
      "\u001B[1;31mFileNotFoundError\u001B[0m                         Traceback (most recent call last)",
      "\u001B[1;32mc:\\Users\\HP\\miniconda3\\envs\\final\\lib\\site-packages\\pdfkit\\configuration.py\u001B[0m in \u001B[0;36m__init__\u001B[1;34m(self, wkhtmltopdf, meta_tag_prefix, environ)\u001B[0m\n\u001B[0;32m     34\u001B[0m \u001B[1;33m\u001B[0m\u001B[0m\n\u001B[1;32m---> 35\u001B[1;33m             \u001B[1;32mwith\u001B[0m \u001B[0mopen\u001B[0m\u001B[1;33m(\u001B[0m\u001B[0mself\u001B[0m\u001B[1;33m.\u001B[0m\u001B[0mwkhtmltopdf\u001B[0m\u001B[1;33m)\u001B[0m \u001B[1;32mas\u001B[0m \u001B[0mf\u001B[0m\u001B[1;33m:\u001B[0m\u001B[1;33m\u001B[0m\u001B[1;33m\u001B[0m\u001B[0m\n\u001B[0m\u001B[0;32m     36\u001B[0m                 \u001B[1;32mpass\u001B[0m\u001B[1;33m\u001B[0m\u001B[1;33m\u001B[0m\u001B[0m\n",
      "\u001B[1;31mFileNotFoundError\u001B[0m: [Errno 2] No such file or directory: b''",
      "\nDuring handling of the above exception, another exception occurred:\n",
      "\u001B[1;31mOSError\u001B[0m                                   Traceback (most recent call last)",
      "\u001B[1;32m~\\AppData\\Local\\Temp\\ipykernel_18212\\1677561485.py\u001B[0m in \u001B[0;36m<module>\u001B[1;34m\u001B[0m\n\u001B[1;32m----> 1\u001B[1;33m \u001B[0mpdfkit\u001B[0m\u001B[1;33m.\u001B[0m\u001B[0mfrom_file\u001B[0m\u001B[1;33m(\u001B[0m\u001B[1;34m'pdf.html'\u001B[0m\u001B[1;33m,\u001B[0m \u001B[1;34m'out.pdf'\u001B[0m\u001B[1;33m,\u001B[0m \u001B[0moptions\u001B[0m\u001B[1;33m=\u001B[0m\u001B[0moptions\u001B[0m\u001B[1;33m)\u001B[0m\u001B[1;33m\u001B[0m\u001B[1;33m\u001B[0m\u001B[0m\n\u001B[0m",
      "\u001B[1;32mc:\\Users\\HP\\miniconda3\\envs\\final\\lib\\site-packages\\pdfkit\\api.py\u001B[0m in \u001B[0;36mfrom_file\u001B[1;34m(input, output_path, options, toc, cover, css, configuration, cover_first, verbose)\u001B[0m\n\u001B[0;32m     47\u001B[0m \u001B[1;33m\u001B[0m\u001B[0m\n\u001B[0;32m     48\u001B[0m     r = PDFKit(input, 'file', options=options, toc=toc, cover=cover, css=css,\n\u001B[1;32m---> 49\u001B[1;33m                configuration=configuration, cover_first=cover_first, verbose=verbose)\n\u001B[0m\u001B[0;32m     50\u001B[0m \u001B[1;33m\u001B[0m\u001B[0m\n\u001B[0;32m     51\u001B[0m     \u001B[1;32mreturn\u001B[0m \u001B[0mr\u001B[0m\u001B[1;33m.\u001B[0m\u001B[0mto_pdf\u001B[0m\u001B[1;33m(\u001B[0m\u001B[0moutput_path\u001B[0m\u001B[1;33m)\u001B[0m\u001B[1;33m\u001B[0m\u001B[1;33m\u001B[0m\u001B[0m\n",
      "\u001B[1;32mc:\\Users\\HP\\miniconda3\\envs\\final\\lib\\site-packages\\pdfkit\\pdfkit.py\u001B[0m in \u001B[0;36m__init__\u001B[1;34m(self, url_or_file, type_, options, toc, cover, css, configuration, cover_first, verbose)\u001B[0m\n\u001B[0;32m     43\u001B[0m \u001B[1;33m\u001B[0m\u001B[0m\n\u001B[0;32m     44\u001B[0m         \u001B[0mself\u001B[0m\u001B[1;33m.\u001B[0m\u001B[0msource\u001B[0m \u001B[1;33m=\u001B[0m \u001B[0mSource\u001B[0m\u001B[1;33m(\u001B[0m\u001B[0murl_or_file\u001B[0m\u001B[1;33m,\u001B[0m \u001B[0mtype_\u001B[0m\u001B[1;33m)\u001B[0m\u001B[1;33m\u001B[0m\u001B[1;33m\u001B[0m\u001B[0m\n\u001B[1;32m---> 45\u001B[1;33m         self.configuration = (Configuration() if configuration is None\n\u001B[0m\u001B[0;32m     46\u001B[0m                               else configuration)\n\u001B[0;32m     47\u001B[0m         \u001B[1;32mtry\u001B[0m\u001B[1;33m:\u001B[0m\u001B[1;33m\u001B[0m\u001B[1;33m\u001B[0m\u001B[0m\n",
      "\u001B[1;32mc:\\Users\\HP\\miniconda3\\envs\\final\\lib\\site-packages\\pdfkit\\configuration.py\u001B[0m in \u001B[0;36m__init__\u001B[1;34m(self, wkhtmltopdf, meta_tag_prefix, environ)\u001B[0m\n\u001B[0;32m     40\u001B[0m                           \u001B[1;34m'read it or you can pass path to it manually in method call, '\u001B[0m\u001B[1;33m\u001B[0m\u001B[1;33m\u001B[0m\u001B[0m\n\u001B[0;32m     41\u001B[0m                           \u001B[1;34m'check README. Otherwise please install wkhtmltopdf - '\u001B[0m\u001B[1;33m\u001B[0m\u001B[1;33m\u001B[0m\u001B[0m\n\u001B[1;32m---> 42\u001B[1;33m                           'https://github.com/JazzCore/python-pdfkit/wiki/Installing-wkhtmltopdf' % self.wkhtmltopdf)\n\u001B[0m\u001B[0;32m     43\u001B[0m \u001B[1;33m\u001B[0m\u001B[0m\n\u001B[0;32m     44\u001B[0m \u001B[1;33m\u001B[0m\u001B[0m\n",
      "\u001B[1;31mOSError\u001B[0m: No wkhtmltopdf executable found: \"b''\"\nIf this file exists please check that this process can read it or you can pass path to it manually in method call, check README. Otherwise please install wkhtmltopdf - https://github.com/JazzCore/python-pdfkit/wiki/Installing-wkhtmltopdf"
     ]
    }
   ],
   "source": [
    "pdfkit.from_file('pdf.html', 'out.pdf', options=options)"
   ]
  },
  {
   "cell_type": "code",
   "execution_count": 5,
   "metadata": {},
   "outputs": [
    {
     "data": {
      "text/plain": [
       "<aspose.words.saving.SaveOutputParameters object at 0x00000191079E8FD0>"
      ]
     },
     "execution_count": 5,
     "metadata": {},
     "output_type": "execute_result"
    }
   ],
   "source": [
    "doc = aw.Document(\"pdf.html\")\n",
    "doc.save(\"html-to-pdf.pdf\")"
   ]
  },
  {
   "cell_type": "code",
   "execution_count": 3,
   "metadata": {},
   "outputs": [],
   "source": [
    "from transformers import TextClassificationPipeline, BertForSequenceClassification, AutoTokenizer\n",
    "\n",
    "model_name = 'smilegate-ai/kor_unsmile'\n",
    "\n",
    "model = BertForSequenceClassification.from_pretrained(model_name)\n",
    "tokenizer = AutoTokenizer.from_pretrained(model_name)\n",
    "\n",
    "pipe = TextClassificationPipeline(\n",
    "    model=model,\n",
    "    tokenizer=tokenizer,\n",
    "    device=-1,     # cpu: -1, gpu: gpu number\n",
    "    #return_all_scores=True,\n",
    "    top_k=10,\n",
    "    function_to_apply='sigmoid'\n",
    "    )"
   ]
  },
  {
   "cell_type": "code",
   "execution_count": 14,
   "outputs": [],
   "source": [
    "def return_filter(doc):\n",
    "    result = pipe(doc)[0][0]\n",
    "    result2 = pipe(doc)[0][:]\n",
    "    cate = result.get('label')\n",
    "    percent = round(result.get('score'), 3) *100\n",
    "    #print(result2)\n",
    "    #print(cate, percent)\n",
    "    print(f'입력한 채팅 = ' + doc+f'\\n채팅 분류는 {percent}% 확률로 {cate}(으)로 분류 되었습니다.')\n"
   ],
   "metadata": {
    "collapsed": false
   }
  },
  {
   "cell_type": "code",
   "execution_count": 15,
   "outputs": [
    {
     "name": "stdout",
     "output_type": "stream",
     "text": [
      "입력한 채팅 = 이놈의 자식이?\n",
      "채팅 분류는 86.2% 확률로 악플/욕설(으)로 분류 되었습니다.\n"
     ]
    }
   ],
   "source": [
    "return_filter('이놈의 자식이?')"
   ],
   "metadata": {
    "collapsed": false
   }
  },
  {
   "cell_type": "code",
   "execution_count": 4,
   "outputs": [],
   "source": [
    "tmp = pipe('발표는 재밌습니다.')[0][0]\n"
   ],
   "metadata": {
    "collapsed": false
   }
  },
  {
   "cell_type": "code",
   "execution_count": 11,
   "outputs": [
    {
     "data": {
      "text/plain": "{'label': 'clean', 'score': 0.9270519018173218}"
     },
     "execution_count": 11,
     "metadata": {},
     "output_type": "execute_result"
    }
   ],
   "source": [
    "tmp"
   ],
   "metadata": {
    "collapsed": false
   }
  },
  {
   "cell_type": "code",
   "execution_count": 12,
   "outputs": [
    {
     "name": "stdout",
     "output_type": "stream",
     "text": [
      "clean\n"
     ]
    }
   ],
   "source": [
    "print(tmp.get('label'))"
   ],
   "metadata": {
    "collapsed": false
   }
  },
  {
   "cell_type": "code",
   "execution_count": null,
   "outputs": [],
   "source": [
    "# 확률 높은 순이므로 처음 나온 게 가장 유력함\n",
    "# 리스트(dict) 형태\n",
    "def return_filter(doc):\n",
    "    result = pipe(doc)[0][0]\n",
    "\n",
    "\n",
    "    return result\n",
    "\n",
    "text = input('텍스트 필터링 확인 : ')\n",
    "result = return_filter(text)\n",
    "print(result)"
   ],
   "metadata": {
    "collapsed": false
   }
  }
 ],
 "metadata": {
  "kernelspec": {
   "name": "final",
   "language": "python",
   "display_name": "final"
  },
  "language_info": {
   "codemirror_mode": {
    "name": "ipython",
    "version": 3
   },
   "file_extension": ".py",
   "mimetype": "text/x-python",
   "name": "python",
   "nbconvert_exporter": "python",
   "pygments_lexer": "ipython3",
   "version": "3.7.13"
  },
  "vscode": {
   "interpreter": {
    "hash": "4c5d292433a8ddcc1675e1c3b36ec13bf3f1c003e8eead3bc3fefbe0799906b7"
   }
  }
 },
 "nbformat": 4,
 "nbformat_minor": 0
}
