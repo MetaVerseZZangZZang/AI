{
 "cells": [
  {
   "cell_type": "code",
   "execution_count": 1,
   "metadata": {},
   "outputs": [
    {
     "name": "stdout",
     "output_type": "stream",
     "text": [
      "Collecting aiohttp\n",
      "  Downloading aiohttp-3.8.3-cp37-cp37m-win_amd64.whl (322 kB)\n",
      "     ------------------------------------- 322.1/322.1 kB 19.5 MB/s eta 0:00:00\n",
      "Collecting aiortc\n",
      "  Downloading aiortc-1.3.2-cp37-cp37m-win_amd64.whl (992 kB)\n",
      "     ------------------------------------- 992.7/992.7 kB 65.5 MB/s eta 0:00:00\n",
      "Collecting opencv-python\n",
      "  Using cached opencv_python-4.6.0.66-cp36-abi3-win_amd64.whl (35.6 MB)\n",
      "Requirement already satisfied: attrs>=17.3.0 in c:\\users\\hp\\miniconda3\\envs\\pororo\\lib\\site-packages (from aiohttp) (22.1.0)\n",
      "Collecting aiosignal>=1.1.2\n",
      "  Using cached aiosignal-1.2.0-py3-none-any.whl (8.2 kB)\n",
      "Collecting multidict<7.0,>=4.5\n",
      "  Downloading multidict-6.0.2-cp37-cp37m-win_amd64.whl (27 kB)\n",
      "Requirement already satisfied: charset-normalizer<3.0,>=2.0 in c:\\users\\hp\\miniconda3\\envs\\pororo\\lib\\site-packages (from aiohttp) (2.1.1)\n",
      "Collecting asynctest==0.13.0\n",
      "  Downloading asynctest-0.13.0-py3-none-any.whl (26 kB)\n",
      "Requirement already satisfied: typing-extensions>=3.7.4 in c:\\users\\hp\\miniconda3\\envs\\pororo\\lib\\site-packages (from aiohttp) (4.4.0)\n",
      "Collecting async-timeout<5.0,>=4.0.0a3\n",
      "  Using cached async_timeout-4.0.2-py3-none-any.whl (5.8 kB)\n",
      "Collecting yarl<2.0,>=1.0\n",
      "  Downloading yarl-1.8.1-cp37-cp37m-win_amd64.whl (56 kB)\n",
      "     ---------------------------------------- 56.3/56.3 kB ? eta 0:00:00\n",
      "Collecting frozenlist>=1.1.1\n",
      "  Downloading frozenlist-1.3.1-cp37-cp37m-win_amd64.whl (34 kB)\n",
      "Requirement already satisfied: cryptography>=2.2 in c:\\users\\hp\\miniconda3\\envs\\pororo\\lib\\site-packages (from aiortc) (37.0.1)\n",
      "Collecting pyee>=9.0.0\n",
      "  Downloading pyee-9.0.4-py2.py3-none-any.whl (14 kB)\n",
      "Collecting pylibsrtp>=0.5.6\n",
      "  Downloading pylibsrtp-0.7.1-cp37-cp37m-win_amd64.whl (45 kB)\n",
      "     ---------------------------------------- 45.3/45.3 kB ? eta 0:00:00\n",
      "Collecting aioice<0.8.0,>=0.7.5\n",
      "  Downloading aioice-0.7.6-py3-none-any.whl (23 kB)\n",
      "Collecting google-crc32c>=1.1\n",
      "  Downloading google_crc32c-1.5.0-cp37-cp37m-win_amd64.whl (27 kB)\n",
      "Requirement already satisfied: cffi>=1.0.0 in c:\\users\\hp\\miniconda3\\envs\\pororo\\lib\\site-packages (from aiortc) (1.15.1)\n",
      "Collecting av<10.0.0,>=9.0.0\n",
      "  Downloading av-9.2.0-cp37-cp37m-win_amd64.whl (24.4 MB)\n",
      "     --------------------------------------- 24.4/24.4 MB 65.6 MB/s eta 0:00:00\n",
      "Requirement already satisfied: numpy>=1.14.5 in c:\\users\\hp\\miniconda3\\envs\\pororo\\lib\\site-packages (from opencv-python) (1.21.5)\n",
      "Collecting dnspython>=2.0.0\n",
      "  Using cached dnspython-2.2.1-py3-none-any.whl (269 kB)\n",
      "Collecting netifaces\n",
      "  Downloading netifaces-0.11.0-cp37-cp37m-win_amd64.whl (16 kB)\n",
      "Requirement already satisfied: pycparser in c:\\users\\hp\\miniconda3\\envs\\pororo\\lib\\site-packages (from cffi>=1.0.0->aiortc) (2.21)\n",
      "Requirement already satisfied: idna>=2.0 in c:\\users\\hp\\miniconda3\\envs\\pororo\\lib\\site-packages (from yarl<2.0,>=1.0->aiohttp) (3.4)\n",
      "Installing collected packages: netifaces, av, pyee, opencv-python, multidict, google-crc32c, frozenlist, dnspython, asynctest, async-timeout, yarl, pylibsrtp, aiosignal, aioice, aiortc, aiohttp\n",
      "Successfully installed aiohttp-3.8.3 aioice-0.7.6 aiortc-1.3.2 aiosignal-1.2.0 async-timeout-4.0.2 asynctest-0.13.0 av-9.2.0 dnspython-2.2.1 frozenlist-1.3.1 google-crc32c-1.5.0 multidict-6.0.2 netifaces-0.11.0 opencv-python-4.6.0.66 pyee-9.0.4 pylibsrtp-0.7.1 yarl-1.8.1\n"
     ]
    }
   ],
   "source": [
    "!pip install aiohttp aiortc opencv-python"
   ]
  },
  {
   "cell_type": "code",
   "execution_count": 2,
   "metadata": {},
   "outputs": [
    {
     "name": "stderr",
     "output_type": "stream",
     "text": [
      "Cloning into 'aiortc'...\n"
     ]
    }
   ],
   "source": [
    "!git clone https://github.com/aiortc/aiortc.git"
   ]
  },
  {
   "cell_type": "code",
   "execution_count": 3,
   "metadata": {},
   "outputs": [
    {
     "name": "stdout",
     "output_type": "stream",
     "text": [
      "c:\\Users\\HP\\Desktop\\workPlace\\AI\\aiortc\\aiortc\n"
     ]
    }
   ],
   "source": [
    "%cd aiortc "
   ]
  },
  {
   "cell_type": "code",
   "execution_count": 4,
   "metadata": {},
   "outputs": [
    {
     "name": "stdout",
     "output_type": "stream",
     "text": [
      "running install\n",
      "running bdist_egg\n",
      "running egg_info\n",
      "creating src\\aiortc.egg-info\n",
      "writing src\\aiortc.egg-info\\PKG-INFO\n",
      "writing dependency_links to src\\aiortc.egg-info\\dependency_links.txt\n",
      "writing requirements to src\\aiortc.egg-info\\requires.txt\n",
      "writing top-level names to src\\aiortc.egg-info\\top_level.txt\n",
      "writing manifest file 'src\\aiortc.egg-info\\SOURCES.txt'\n",
      "reading manifest file 'src\\aiortc.egg-info\\SOURCES.txt'\n",
      "reading manifest template 'MANIFEST.in'\n",
      "adding license file 'LICENSE'\n",
      "writing manifest file 'src\\aiortc.egg-info\\SOURCES.txt'\n",
      "installing library code to build\\bdist.win-amd64\\egg\n",
      "running install_lib\n",
      "running build_py\n",
      "creating build\n",
      "creating build\\lib.win-amd64-cpython-37\n",
      "creating build\\lib.win-amd64-cpython-37\\aiortc\n",
      "copying src\\aiortc\\about.py -> build\\lib.win-amd64-cpython-37\\aiortc\n",
      "copying src\\aiortc\\clock.py -> build\\lib.win-amd64-cpython-37\\aiortc\n",
      "copying src\\aiortc\\events.py -> build\\lib.win-amd64-cpython-37\\aiortc\n",
      "copying src\\aiortc\\exceptions.py -> build\\lib.win-amd64-cpython-37\\aiortc\n",
      "copying src\\aiortc\\jitterbuffer.py -> build\\lib.win-amd64-cpython-37\\aiortc\n",
      "copying src\\aiortc\\mediastreams.py -> build\\lib.win-amd64-cpython-37\\aiortc\n",
      "copying src\\aiortc\\rate.py -> build\\lib.win-amd64-cpython-37\\aiortc\n",
      "copying src\\aiortc\\rtcconfiguration.py -> build\\lib.win-amd64-cpython-37\\aiortc\n",
      "copying src\\aiortc\\rtcdatachannel.py -> build\\lib.win-amd64-cpython-37\\aiortc\n",
      "copying src\\aiortc\\rtcdtlstransport.py -> build\\lib.win-amd64-cpython-37\\aiortc\n",
      "copying src\\aiortc\\rtcicetransport.py -> build\\lib.win-amd64-cpython-37\\aiortc\n",
      "copying src\\aiortc\\rtcpeerconnection.py -> build\\lib.win-amd64-cpython-37\\aiortc\n",
      "copying src\\aiortc\\rtcrtpparameters.py -> build\\lib.win-amd64-cpython-37\\aiortc\n",
      "copying src\\aiortc\\rtcrtpreceiver.py -> build\\lib.win-amd64-cpython-37\\aiortc\n",
      "copying src\\aiortc\\rtcrtpsender.py -> build\\lib.win-amd64-cpython-37\\aiortc\n",
      "copying src\\aiortc\\rtcrtptransceiver.py -> build\\lib.win-amd64-cpython-37\\aiortc\n",
      "copying src\\aiortc\\rtcsctptransport.py -> build\\lib.win-amd64-cpython-37\\aiortc\n",
      "copying src\\aiortc\\rtcsessiondescription.py -> build\\lib.win-amd64-cpython-37\\aiortc\n",
      "copying src\\aiortc\\rtp.py -> build\\lib.win-amd64-cpython-37\\aiortc\n",
      "copying src\\aiortc\\sdp.py -> build\\lib.win-amd64-cpython-37\\aiortc\n",
      "copying src\\aiortc\\stats.py -> build\\lib.win-amd64-cpython-37\\aiortc\n",
      "copying src\\aiortc\\utils.py -> build\\lib.win-amd64-cpython-37\\aiortc\n",
      "copying src\\aiortc\\__init__.py -> build\\lib.win-amd64-cpython-37\\aiortc\n",
      "creating build\\lib.win-amd64-cpython-37\\aiortc\\codecs\n",
      "copying src\\aiortc\\codecs\\base.py -> build\\lib.win-amd64-cpython-37\\aiortc\\codecs\n",
      "copying src\\aiortc\\codecs\\g711.py -> build\\lib.win-amd64-cpython-37\\aiortc\\codecs\n",
      "copying src\\aiortc\\codecs\\h264.py -> build\\lib.win-amd64-cpython-37\\aiortc\\codecs\n",
      "copying src\\aiortc\\codecs\\opus.py -> build\\lib.win-amd64-cpython-37\\aiortc\\codecs\n",
      "copying src\\aiortc\\codecs\\vpx.py -> build\\lib.win-amd64-cpython-37\\aiortc\\codecs\n",
      "copying src\\aiortc\\codecs\\__init__.py -> build\\lib.win-amd64-cpython-37\\aiortc\\codecs\n",
      "creating build\\lib.win-amd64-cpython-37\\aiortc\\contrib\n",
      "copying src\\aiortc\\contrib\\media.py -> build\\lib.win-amd64-cpython-37\\aiortc\\contrib\n",
      "copying src\\aiortc\\contrib\\signaling.py -> build\\lib.win-amd64-cpython-37\\aiortc\\contrib\n",
      "copying src\\aiortc\\contrib\\__init__.py -> build\\lib.win-amd64-cpython-37\\aiortc\\contrib\n",
      "running build_ext\n",
      "generating cffi module 'build\\\\temp.win-amd64-cpython-37\\\\Release\\\\aiortc.codecs._vpx.c'\n",
      "creating build\\temp.win-amd64-cpython-37\n",
      "creating build\\temp.win-amd64-cpython-37\\Release\n",
      "generating cffi module 'build\\\\temp.win-amd64-cpython-37\\\\Release\\\\aiortc.codecs._opus.c'\n",
      "building 'aiortc.codecs._opus' extension\n"
     ]
    },
    {
     "name": "stderr",
     "output_type": "stream",
     "text": [
      "c:\\Users\\HP\\miniconda3\\envs\\pororo\\lib\\site-packages\\setuptools\\command\\install.py:37: SetuptoolsDeprecationWarning: setup.py install is deprecated. Use build and pip and other standards-based tools.\n",
      "  setuptools.SetuptoolsDeprecationWarning,\n",
      "c:\\Users\\HP\\miniconda3\\envs\\pororo\\lib\\site-packages\\setuptools\\command\\easy_install.py:147: EasyInstallDeprecationWarning: easy_install command is deprecated. Use build and pip and other standards-based tools.\n",
      "  EasyInstallDeprecationWarning,\n",
      "error: Microsoft Visual C++ 14.0 or greater is required. Get it with \"Microsoft C++ Build Tools\": https://visualstudio.microsoft.com/visual-cpp-build-tools/\n"
     ]
    }
   ],
   "source": [
    "!python setup.py install"
   ]
  },
  {
   "cell_type": "code",
   "execution_count": 5,
   "metadata": {},
   "outputs": [
    {
     "name": "stdout",
     "output_type": "stream",
     "text": [
      "Requirement already satisfied: aiohttp in c:\\users\\hp\\miniconda3\\envs\\pororo\\lib\\site-packages (3.8.3)\n",
      "Requirement already satisfied: aiortc in c:\\users\\hp\\miniconda3\\envs\\pororo\\lib\\site-packages (1.3.2)\n",
      "Requirement already satisfied: opencv-python in c:\\users\\hp\\miniconda3\\envs\\pororo\\lib\\site-packages (4.6.0.66)\n",
      "Requirement already satisfied: async-timeout<5.0,>=4.0.0a3 in c:\\users\\hp\\miniconda3\\envs\\pororo\\lib\\site-packages (from aiohttp) (4.0.2)\n",
      "Requirement already satisfied: attrs>=17.3.0 in c:\\users\\hp\\miniconda3\\envs\\pororo\\lib\\site-packages (from aiohttp) (22.1.0)\n",
      "Requirement already satisfied: yarl<2.0,>=1.0 in c:\\users\\hp\\miniconda3\\envs\\pororo\\lib\\site-packages (from aiohttp) (1.8.1)\n",
      "Requirement already satisfied: charset-normalizer<3.0,>=2.0 in c:\\users\\hp\\miniconda3\\envs\\pororo\\lib\\site-packages (from aiohttp) (2.1.1)\n",
      "Requirement already satisfied: frozenlist>=1.1.1 in c:\\users\\hp\\miniconda3\\envs\\pororo\\lib\\site-packages (from aiohttp) (1.3.1)\n",
      "Requirement already satisfied: typing-extensions>=3.7.4 in c:\\users\\hp\\miniconda3\\envs\\pororo\\lib\\site-packages (from aiohttp) (4.4.0)\n",
      "Requirement already satisfied: asynctest==0.13.0 in c:\\users\\hp\\miniconda3\\envs\\pororo\\lib\\site-packages (from aiohttp) (0.13.0)\n",
      "Requirement already satisfied: multidict<7.0,>=4.5 in c:\\users\\hp\\miniconda3\\envs\\pororo\\lib\\site-packages (from aiohttp) (6.0.2)\n",
      "Requirement already satisfied: aiosignal>=1.1.2 in c:\\users\\hp\\miniconda3\\envs\\pororo\\lib\\site-packages (from aiohttp) (1.2.0)\n",
      "Requirement already satisfied: google-crc32c>=1.1 in c:\\users\\hp\\miniconda3\\envs\\pororo\\lib\\site-packages (from aiortc) (1.5.0)\n",
      "Requirement already satisfied: aioice<0.8.0,>=0.7.5 in c:\\users\\hp\\miniconda3\\envs\\pororo\\lib\\site-packages (from aiortc) (0.7.6)\n",
      "Requirement already satisfied: cffi>=1.0.0 in c:\\users\\hp\\miniconda3\\envs\\pororo\\lib\\site-packages (from aiortc) (1.15.1)\n",
      "Requirement already satisfied: cryptography>=2.2 in c:\\users\\hp\\miniconda3\\envs\\pororo\\lib\\site-packages (from aiortc) (37.0.1)\n",
      "Requirement already satisfied: av<10.0.0,>=9.0.0 in c:\\users\\hp\\miniconda3\\envs\\pororo\\lib\\site-packages (from aiortc) (9.2.0)\n",
      "Requirement already satisfied: pylibsrtp>=0.5.6 in c:\\users\\hp\\miniconda3\\envs\\pororo\\lib\\site-packages (from aiortc) (0.7.1)\n",
      "Requirement already satisfied: pyee>=9.0.0 in c:\\users\\hp\\miniconda3\\envs\\pororo\\lib\\site-packages (from aiortc) (9.0.4)\n",
      "Requirement already satisfied: numpy>=1.14.5 in c:\\users\\hp\\miniconda3\\envs\\pororo\\lib\\site-packages (from opencv-python) (1.21.5)\n",
      "Requirement already satisfied: dnspython>=2.0.0 in c:\\users\\hp\\miniconda3\\envs\\pororo\\lib\\site-packages (from aioice<0.8.0,>=0.7.5->aiortc) (2.2.1)\n",
      "Requirement already satisfied: netifaces in c:\\users\\hp\\miniconda3\\envs\\pororo\\lib\\site-packages (from aioice<0.8.0,>=0.7.5->aiortc) (0.11.0)\n",
      "Requirement already satisfied: pycparser in c:\\users\\hp\\miniconda3\\envs\\pororo\\lib\\site-packages (from cffi>=1.0.0->aiortc) (2.21)\n",
      "Requirement already satisfied: idna>=2.0 in c:\\users\\hp\\miniconda3\\envs\\pororo\\lib\\site-packages (from yarl<2.0,>=1.0->aiohttp) (3.4)\n"
     ]
    }
   ],
   "source": [
    "!pip install aiohttp aiortc opencv-python"
   ]
  },
  {
   "cell_type": "code",
   "execution_count": 6,
   "metadata": {},
   "outputs": [
    {
     "name": "stdout",
     "output_type": "stream",
     "text": [
      "c:\\Users\\HP\\Desktop\\workPlace\\AI\\aiortc\n"
     ]
    }
   ],
   "source": [
    "%cd .."
   ]
  },
  {
   "cell_type": "code",
   "execution_count": 7,
   "metadata": {},
   "outputs": [
    {
     "name": "stdout",
     "output_type": "stream",
     "text": [
      "c:\\Users\\HP\\Desktop\\workPlace\\AI\\aiortc\\aiortc\\examples\\server\n"
     ]
    }
   ],
   "source": [
    "%cd aiortc/examples/server"
   ]
  },
  {
   "cell_type": "code",
   "execution_count": 13,
   "metadata": {},
   "outputs": [
    {
     "name": "stderr",
     "output_type": "stream",
     "text": [
      "ERROR:asyncio:unhandled exception during asyncio.run() shutdown\n",
      "task: <Task finished coro=<_run_app() done, defined at c:\\Users\\HP\\miniconda3\\envs\\pororo\\lib\\site-packages\\aiohttp\\web.py:289> exception=OSError(10048, \"error while attempting to bind on address ('0.0.0.0', 9090): 각 소켓 주소(프로토콜/네트워크 주소/포트)는 하나만 사용할 수 있습니다\")>\n",
      "Traceback (most recent call last):\n",
      "  File \"c:\\Users\\HP\\miniconda3\\envs\\pororo\\lib\\site-packages\\aiohttp\\web.py\", line 516, in run_app\n",
      "    loop.run_until_complete(main_task)\n",
      "  File \"c:\\Users\\HP\\miniconda3\\envs\\pororo\\lib\\asyncio\\base_events.py\", line 587, in run_until_complete\n",
      "    return future.result()\n",
      "  File \"c:\\Users\\HP\\miniconda3\\envs\\pororo\\lib\\site-packages\\aiohttp\\web.py\", line 415, in _run_app\n",
      "    await site.start()\n",
      "  File \"c:\\Users\\HP\\miniconda3\\envs\\pororo\\lib\\site-packages\\aiohttp\\web_runner.py\", line 128, in start\n",
      "    reuse_port=self._reuse_port,\n",
      "  File \"c:\\Users\\HP\\miniconda3\\envs\\pororo\\lib\\asyncio\\base_events.py\", line 1389, in create_server\n",
      "    % (sa, err.strerror.lower())) from None\n",
      "OSError: [Errno 10048] error while attempting to bind on address ('0.0.0.0', 9090): 각 소켓 주소(프로토콜/네트워크 주소/포트)는 하나만 사용할 수 있습니다\n",
      "Traceback (most recent call last):\n",
      "  File \"server.py\", line 214, in <module>\n",
      "    app, access_log=None, host=args.host, port=9090, ssl_context=ssl_context\n",
      "  File \"c:\\Users\\HP\\miniconda3\\envs\\pororo\\lib\\site-packages\\aiohttp\\web.py\", line 516, in run_app\n",
      "    loop.run_until_complete(main_task)\n",
      "  File \"c:\\Users\\HP\\miniconda3\\envs\\pororo\\lib\\asyncio\\base_events.py\", line 587, in run_until_complete\n",
      "    return future.result()\n",
      "  File \"c:\\Users\\HP\\miniconda3\\envs\\pororo\\lib\\site-packages\\aiohttp\\web.py\", line 415, in _run_app\n",
      "    await site.start()\n",
      "  File \"c:\\Users\\HP\\miniconda3\\envs\\pororo\\lib\\site-packages\\aiohttp\\web_runner.py\", line 128, in start\n",
      "    reuse_port=self._reuse_port,\n",
      "  File \"c:\\Users\\HP\\miniconda3\\envs\\pororo\\lib\\asyncio\\base_events.py\", line 1389, in create_server\n",
      "    % (sa, err.strerror.lower())) from None\n",
      "OSError: [Errno 10048] error while attempting to bind on address ('0.0.0.0', 9090): 각 소켓 주소(프로토콜/네트워크 주소/포트)는 하나만 사용할 수 있습니다\n"
     ]
    }
   ],
   "source": [
    "!python server.py"
   ]
  },
  {
   "cell_type": "code",
   "execution_count": null,
   "metadata": {},
   "outputs": [],
   "source": []
  },
  {
   "cell_type": "code",
   "execution_count": null,
   "metadata": {},
   "outputs": [],
   "source": []
  }
 ],
 "metadata": {
  "kernelspec": {
   "display_name": "pororo",
   "language": "python",
   "name": "pororo"
  },
  "language_info": {
   "codemirror_mode": {
    "name": "ipython",
    "version": 3
   },
   "file_extension": ".py",
   "mimetype": "text/x-python",
   "name": "python",
   "nbconvert_exporter": "python",
   "pygments_lexer": "ipython3",
   "version": "3.7.7"
  },
  "orig_nbformat": 4
 },
 "nbformat": 4,
 "nbformat_minor": 2
}
