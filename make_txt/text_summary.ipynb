{
 "cells": [
  {
   "cell_type": "code",
   "execution_count": 40,
   "id": "5cdcb14f",
   "metadata": {},
   "outputs": [],
   "source": [
    "#!/usr/bin/python\n",
    "# -*- coding: utf-8 -*-\n",
    "import sys\n",
    "import requests\n",
    "import json\n",
    "#import my_settings\n",
    "\n",
    "client_id = 'yg1799nptx'\n",
    "client_secret = 'M8jQcZTp8a8hAUdfT312MxFNelxTAa9a4N9HEkrR'\n",
    "url = 'https://naveropenapi.apigw.ntruss.com/text-summary/v1/summarize'\n",
    "\n",
    "headers = {\n",
    "            'Accept': 'application/json;UTF-8',\n",
    "            'Content-Type': 'application/json;UTF-8',\n",
    "            'X-NCP-APIGW-API-KEY-ID': client_id,\n",
    "            'X-NCP-APIGW-API-KEY': client_secret\n",
    "        }\n",
    "\n",
    "def txt_summary(text):\n",
    "    data = {\n",
    "  \"document\": {\n",
    "    \"content\": text\n",
    "  },\n",
    "  \"option\": {\n",
    "    \"language\": \"ko\",\n",
    "    \"model\": \"general\",\n",
    "    \"tone\": 1,\n",
    "    \"summaryCount\": 3\n",
    "  }\n",
    "    }\n",
    "    response = requests.post(url, headers=headers, data=json.dumps(data).encode('UTF-8'))\n",
    "    rescode = response.status_code\n",
    "    \n",
    "    if(rescode == 200): text_summary_result = response.text\n",
    "    else:print(\"Error : \" + response.text)\n",
    "    \n",
    "    return text_summary_result"
   ]
  },
  {
   "cell_type": "code",
   "execution_count": 41,
   "id": "08b0015a",
   "metadata": {},
   "outputs": [
    {
     "data": {
      "text/plain": [
       "'{\"summary\":\"한국은행이 17일 발표한 \\'2019년 상반기중 전자지급서비스 이용 현황\\'에 따르면 올해 상반기 간편송금서비스 이용금액(일평균)은 지난해 하반기 대비 60.7% 증가한 2005억원으로 집계됐어요.\\\\n한은은 카카오페이, 토스 등 간편송금 서비스를 제공하는 업체 간 경쟁이 심화되면서 이용규모가 크게 확대됐다고 분석했어요.\\\\n국회 정무위원회 소속 바른미래당 유의동 의원에 따르면 카카오페이, 토스 등 선불전자지급서비스 제공업체는 지난해 마케팅 비용으로 1000억원 이상을 지출했어요.\"}'"
      ]
     },
     "execution_count": 41,
     "metadata": {},
     "output_type": "execute_result"
    }
   ],
   "source": [
    "txt_summary(text)"
   ]
  },
  {
   "cell_type": "code",
   "execution_count": 24,
   "id": "92bbbd8b",
   "metadata": {},
   "outputs": [],
   "source": [
    "text = \"간편송금 이용금액이 하루 평균 2000억원을 넘어섰다. 한국은행이 17일 발표한 '2019년 상반기중 전자지급서비스 이용 현황'에 따르면 올해 상반기 간편송금서비스 이용금액(일평균)은 지난해 하반기 대비 60.7% 증가한 2005억원으로 집계됐다. 같은 기간 이용건수(일평균)는 34.8% 늘어난 218만건이었다. 간편 송금 시장에는 선불전자지급서비스를 제공하는 전자금융업자와 금융기관 등이 참여하고 있다. 이용금액은 전자금융업자가 하루평균 1879억원, 금융기관이 126억원이었다. 한은은 카카오페이, 토스 등 간편송금 서비스를 제공하는 업체 간 경쟁이 심화되면서 이용규모가 크게 확대됐다고 분석했다. 국회 정무위원회 소속 바른미래당 유의동 의원에 따르면 카카오페이, 토스 등 선불전자지급서비스 제공업체는 지난해 마케팅 비용으로 1000억원 이상을 지출했다. 마케팅 비용 지출규모는 카카오페이가 491억원, 비바리퍼블리카(토스)가 134억원 등 순으로 많았다.\"\n",
    "tmp_text = txt_summary(text)"
   ]
  },
  {
   "cell_type": "code",
   "execution_count": 36,
   "id": "1680317a",
   "metadata": {},
   "outputs": [
    {
     "data": {
      "text/plain": [
       "['\"한국은행이 17일 발표한 \\'2019년 상반기중 전자지급서비스 이용 현황\\'에 따르면 올해 상반기 간편송금서비스 이용금액(일평균)은 지난해 하반기 대비 60.7% 증가한 2005억원으로 집계됐다.\\\\n한은은 카카오페이, 토스 등 간편송금 서비스를 제공하는 업체 간 경쟁이 심화되면서 이용규모가 크게 확대됐다고 분석했다.\\\\n국회 정무위원회 소속 바른미래당 유의동 의원에 따르면 카카오페이, 토스 등 선불전자지급서비스 제공업체는 지난해 마케팅 비용으로 1000억원 이상을 지출했다.']"
      ]
     },
     "execution_count": 36,
     "metadata": {},
     "output_type": "execute_result"
    }
   ],
   "source": [
    "tmp_text = tmp_text[11:-2].split('\\n')\n",
    "tmp_text"
   ]
  },
  {
   "cell_type": "code",
   "execution_count": 4,
   "id": "315703dd",
   "metadata": {},
   "outputs": [],
   "source": [
    "data = {\n",
    "  \"document\": {\n",
    "    \"content\": \"간편송금 이용금액이 하루 평균 2000억원을 넘어섰다. 한국은행이 17일 발표한 '2019년 상반기중 전자지급서비스 이용 현황'에 따르면 올해 상반기 간편송금서비스 이용금액(일평균)은 지난해 하반기 대비 60.7% 증가한 2005억원으로 집계됐다. 같은 기간 이용건수(일평균)는 34.8% 늘어난 218만건이었다. 간편 송금 시장에는 선불전자지급서비스를 제공하는 전자금융업자와 금융기관 등이 참여하고 있다. 이용금액은 전자금융업자가 하루평균 1879억원, 금융기관이 126억원이었다. 한은은 카카오페이, 토스 등 간편송금 서비스를 제공하는 업체 간 경쟁이 심화되면서 이용규모가 크게 확대됐다고 분석했다. 국회 정무위원회 소속 바른미래당 유의동 의원에 따르면 카카오페이, 토스 등 선불전자지급서비스 제공업체는 지난해 마케팅 비용으로 1000억원 이상을 지출했다. 마케팅 비용 지출규모는 카카오페이가 491억원, 비바리퍼블리카(토스)가 134억원 등 순으로 많았다.\"\n",
    "  },\n",
    "  \"option\": {\n",
    "    \"language\": \"ko\",\n",
    "    \"model\": \"news\",\n",
    "    \"tone\": 1,\n",
    "    \"summaryCount\": 3\n",
    "  }\n",
    "}"
   ]
  },
  {
   "cell_type": "code",
   "execution_count": 42,
   "id": "416e7eeb",
   "metadata": {},
   "outputs": [],
   "source": [
    "test_text = '안녕하세요 이진아 대표님 어떻게 중간에 초대해주셔서 감사합니다 스스로 의견을 붙이고  여기에다가 또 마음에 안드는게 있으면 저는 이제 그림을 그려볼게요 여기 물병을 달면 어떠냐. 삼 차원으로 보면서 막 하이킹 트레일 같은거에다 얘기할 수 도 있고 어 이거 애들 교육용으로 굉장히 좋겠네요. 코로나 19 사태로 스페셜에 대한 문의가 폭주하고 있다고 들었는데 어디에서 요청이 많이 오나요 원격 오피 스가 많이 큰 기업에도 이런쪽에 관심이 없던 작은 비즈니스 그리고 수업을 못하게 되면 학교들 의료 활동을 못하게 되면 병원들 그리고 재택근무가 필수적이어서 집에서 근무 하느라 고생 중에 많은 개인들에게 문의가 오고있습니다. 그래서 그분들은 이제 아직까지는 그 에어 하이패스 아직 안'"
   ]
  },
  {
   "cell_type": "code",
   "execution_count": 43,
   "id": "165b5cb1",
   "metadata": {},
   "outputs": [
    {
     "data": {
      "text/plain": [
       "'{\"summary\":\"이진아 대표님 어떻게 중간에 초대해주셔서 감사해요.\\\\n스스로 의견을 붙이고 여기에다가 또 마음에 안드는게 있으면 저는 이제 그림을 그려보게요.\\\\n원격 오피 스가 많이 큰 기업에도 이런쪽에 관심이 없던 작은 비즈니스 그리고 수업을 못하게 되면 학교들 의료 활동을 못하게 되면 병원들 그리고 재택근무가 필수적이어서 집에서 근무 하느라 고생 중에 많은 개인들에게 문의가 오고있어요.\"}'"
      ]
     },
     "execution_count": 43,
     "metadata": {},
     "output_type": "execute_result"
    }
   ],
   "source": [
    "txt_summary(test_text)"
   ]
  },
  {
   "cell_type": "code",
   "execution_count": 16,
   "id": "4dc5cc38",
   "metadata": {},
   "outputs": [
    {
     "data": {
      "text/plain": [
       "\"간편송금 이용금액이 하루 평균 2000억원을 넘어섰다. 한국은행이 17일 발표한 '2019년 상반기중 전자지급서비스 이용 현황'에 따르면 올해 상반기 간편송금서비스 이용금액(일평균)은 지난해 하반기 대비 60.7% 증가한 2005억원으로 집계됐다. 같은 기간 이용건수(일평균)는 34.8% 늘어난 218만건이었다. 간편 송금 시장에는 선불전자지급서비스를 제공하는 전자금융업자와 금융기관 등이 참여하고 있다. 이용금액은 전자금융업자가 하루평균 1879억원, 금융기관이 126억원이었다. 한은은 카카오페이, 토스 등 간편송금 서비스를 제공하는 업체 간 경쟁이 심화되면서 이용규모가 크게 확대됐다고 분석했다. 국회 정무위원회 소속 바른미래당 유의동 의원에 따르면 카카오페이, 토스 등 선불전자지급서비스 제공업체는 지난해 마케팅 비용으로 1000억원 이상을 지출했다. 마케팅 비용 지출규모는 카카오페이가 491억원, 비바리퍼블리카(토스)가 134억원 등 순으로 많았다.\""
      ]
     },
     "execution_count": 16,
     "metadata": {},
     "output_type": "execute_result"
    }
   ],
   "source": [
    "tmp = data.get('document')\n",
    "tmp.get('content')"
   ]
  },
  {
   "cell_type": "code",
   "execution_count": 39,
   "id": "df840611",
   "metadata": {},
   "outputs": [
    {
     "name": "stdout",
     "output_type": "stream",
     "text": [
      "{\"summary\":\"한은은 카카오페이, 토스 등 간편송금 서비스를 제공하는 업체 간 경쟁이 심화되면서 이용규모가 크게 확대됐다고 분석했어요.\"}\n"
     ]
    }
   ],
   "source": [
    "data = {\n",
    "  \"document\": {\n",
    "    \"content\": \"간편송금 이용금액이 하루 평균 2000억원을 넘어섰다. 한국은행이 17일 발표한 '2019년 상반기중 전자지급서비스 이용 현황'에 따르면 올해 상반기 간편송금서비스 이용금액(일평균)은 지난해 하반기 대비 60.7% 증가한 2005억원으로 집계됐다. 같은 기간 이용건수(일평균)는 34.8% 늘어난 218만건이었다. 간편 송금 시장에는 선불전자지급서비스를 제공하는 전자금융업자와 금융기관 등이 참여하고 있다. 이용금액은 전자금융업자가 하루평균 1879억원, 금융기관이 126억원이었다. 한은은 카카오페이, 토스 등 간편송금 서비스를 제공하는 업체 간 경쟁이 심화되면서 이용규모가 크게 확대됐다고 분석했다. 국회 정무위원회 소속 바른미래당 유의동 의원에 따르면 카카오페이, 토스 등 선불전자지급서비스 제공업체는 지난해 마케팅 비용으로 1000억원 이상을 지출했다. 마케팅 비용 지출규모는 카카오페이가 491억원, 비바리퍼블리카(토스)가 134억원 등 순으로 많았다.\"\n",
    "  },\n",
    "  \"option\": {\n",
    "    \"language\": \"ko\",\n",
    "    \"model\": \"general\",\n",
    "    \"tone\": 1,\n",
    "    \"summaryCount\": 1\n",
    "  }\n",
    "}\n",
    "\n",
    "response = requests.post(url, headers=headers, data=json.dumps(data).encode('UTF-8'))\n",
    "rescode = response.status_code\n",
    "if(rescode == 200):\n",
    "    print(response.text)\n",
    "else:\n",
    "    print(\"Error : \" + response.text)"
   ]
  },
  {
   "cell_type": "code",
   "execution_count": 15,
   "id": "885c6584",
   "metadata": {},
   "outputs": [],
   "source": []
  },
  {
   "cell_type": "code",
   "execution_count": null,
   "id": "ffa3c3ed",
   "metadata": {},
   "outputs": [],
   "source": []
  },
  {
   "cell_type": "code",
   "execution_count": null,
   "id": "410afdbf",
   "metadata": {},
   "outputs": [],
   "source": []
  },
  {
   "cell_type": "code",
   "execution_count": null,
   "id": "1bd7c7e6",
   "metadata": {},
   "outputs": [],
   "source": []
  },
  {
   "cell_type": "code",
   "execution_count": null,
   "id": "0404a156",
   "metadata": {},
   "outputs": [],
   "source": []
  }
 ],
 "metadata": {
  "kernelspec": {
   "display_name": "Python 3 (ipykernel)",
   "language": "python",
   "name": "python3"
  },
  "language_info": {
   "codemirror_mode": {
    "name": "ipython",
    "version": 3
   },
   "file_extension": ".py",
   "mimetype": "text/x-python",
   "name": "python",
   "nbconvert_exporter": "python",
   "pygments_lexer": "ipython3",
   "version": "3.9.12"
  }
 },
 "nbformat": 4,
 "nbformat_minor": 5
}
