{
 "cells": [
  {
   "cell_type": "code",
   "execution_count": 1,
   "metadata": {},
   "outputs": [],
   "source": [
    "from keybert import KeyBERT"
   ]
  },
  {
   "cell_type": "code",
   "execution_count": null,
   "metadata": {},
   "outputs": [],
   "source": [
    "input_text1 = \"\"\"가수 김태연은 걸 그룹 소녀시대, 소녀시대-태티서 및 소녀시대-Oh!GG의 리더이자 메인보컬이다. 2004년 SM에서 주최한 청소년 베스트 선발 대회에서 노래짱 대상을 수상하며 SM 엔터테인먼트에 캐스팅되었다. 이후 3년간의 연습생을 거쳐 2007년 소녀시대의 멤버로 데뷔했다. 태연은 1989년 3월 9일 대한민국 전라북도 전주시 완산구에서 아버지 김종구, 어머니 김희자 사이의 1남 2녀 중 둘째로 태어났다. 가족으로는 오빠 김지웅, 여동생 김하연이 있다. 어릴 적부터 춤을 좋아했고 특히 명절 때는 친척들이 춤을 시키면 곧잘 추었다던 태연은 TV에서 보아를 보고 가수의 꿈을 갖게 되었다고 한다. 전주양지초등학교를 졸업하였고 전주양지중학교 2학년이던 2003년 SM아카데미 스타라이트 메인지방보컬과 4기에 들어가게 되면서 아버지와 함께 주말마다 전주에서 서울로 이동하며 가수의 꿈을 키웠다. 2004년에 당시 보컬 트레이너였던 더 원의 정규 2집 수록곡 〈You Bring Me Joy (Part 2)〉에 피처링으로 참여했다. 당시 만 15세였던 태연은 현재 활동하는 소속사 SM 엔터테인먼트에 들어가기 전이었다. 이후 태연은 2004년 8월에 열린 제8회 SM 청소년 베스트 선발 대회에서 노래짱 부문에 출전해 1위(대상)를 수상하였고 SM 엔터테인먼트에 정식 캐스팅되어 연습생 생활을 시작하게 되었다. 2005년 청담고등학교에 입학하였으나, 학교 측에서 연예계 활동을 용인하지 않아 전주예술고등학교 방송문화예술과로 전학하였고 2008년 졸업하면서 학교를 빛낸 공로로 공로상을 수상했다. 태연은 연습생 생활이 힘들어 숙소에서 몰래 뛰쳐나갔다가 하루 만에 다시 돌아오기도 했다고 이야기하기도 했다. 이후 SM엔터테인먼트에서 3년여의 연습생 기간을 거쳐 걸 그룹 소녀시대의 멤버로 정식 데뷔하게 되었다.\"\"\"\n"
   ]
  },
  {
   "cell_type": "code",
   "execution_count": 1,
   "metadata": {},
   "outputs": [
    {
     "name": "stdout",
     "output_type": "stream",
     "text": [
      "# packages in environment at C:\\Users\\HP\\miniconda3\\envs\\final:\n",
      "#\n",
      "# Name                    Version                   Build  Channel\n",
      "async_generator           1.10                       py_0    conda-forge\n",
      "attrs                     22.1.0             pyh71513ae_1    conda-forge\n",
      "backcall                  0.2.0              pyhd3eb1b0_0  \n",
      "beautifulsoup4            4.11.1           py37haa95532_0    anaconda\n",
      "blas                      1.0                         mkl    anaconda\n",
      "bottleneck                1.3.4            py37h080aedc_0    anaconda\n",
      "brotlipy                  0.7.0           py37hcc03f2d_1004    conda-forge\n",
      "ca-certificates           2022.4.26            haa95532_0    anaconda\n",
      "certifi                   2022.6.15        py37haa95532_0    anaconda\n",
      "cffi                      1.15.1           py37hd8e9650_0    conda-forge\n",
      "charset-normalizer        2.1.1              pyhd8ed1ab_0    conda-forge\n",
      "click                     8.1.3            py37h03978a9_0    conda-forge\n",
      "colorama                  0.4.5            py37haa95532_0  \n",
      "cryptography              37.0.4           py37h65266a2_0    conda-forge\n",
      "cycler                    0.11.0             pyhd8ed1ab_0    conda-forge\n",
      "debugpy                   1.5.1            py37hd77b12b_0  \n",
      "decorator                 5.1.1              pyhd3eb1b0_0  \n",
      "entrypoints               0.4              py37haa95532_0  \n",
      "exceptiongroup            1.0.0rc9           pyhd8ed1ab_0    conda-forge\n",
      "freetype                  2.10.4               h546665d_1    conda-forge\n",
      "h11                       0.14.0             pyhd8ed1ab_0    conda-forge\n",
      "icu                       68.2                 h0e60522_0    conda-forge\n",
      "idna                      3.4                pyhd8ed1ab_0    conda-forge\n",
      "importlib-metadata        4.11.4           py37h03978a9_0    conda-forge\n",
      "intel-openmp              2021.4.0          haa95532_3556    anaconda\n",
      "ipykernel                 6.15.2           py37haa95532_0  \n",
      "ipython                   7.31.1           py37haa95532_1  \n",
      "jedi                      0.18.1           py37haa95532_1  \n",
      "joblib                    1.1.0              pyhd3eb1b0_0    anaconda\n",
      "jpeg                      9e                   h8ffe710_2    conda-forge\n",
      "jpype1                    1.4.0                    pypi_0    pypi\n",
      "jupyter_client            7.3.5            py37haa95532_0  \n",
      "jupyter_core              4.11.1           py37haa95532_0  \n",
      "kiwisolver                1.4.4            py37h8c56517_0    conda-forge\n",
      "konlpy                    0.6.0                    pypi_0    pypi\n",
      "libclang                  11.1.0          default_h5c34c98_1    conda-forge\n",
      "libpng                    1.6.37               h2a8f88b_0  \n",
      "libsodium                 1.0.18               h62dcd97_0  \n",
      "libtiff                   4.0.9             h36446d0_1002    conda-forge\n",
      "libwebp                   1.2.4                h8ffe710_0    conda-forge\n",
      "libwebp-base              1.2.4                h8ffe710_0    conda-forge\n",
      "lxml                      4.9.1                    pypi_0    pypi\n",
      "matplotlib                3.2.2                         1    conda-forge\n",
      "matplotlib-base           3.2.2            py37hab8957c_1    conda-forge\n",
      "matplotlib-inline         0.1.6            py37haa95532_0  \n",
      "mkl                       2021.4.0           haa95532_640    anaconda\n",
      "mkl-service               2.4.0            py37h2bbff1b_0    anaconda\n",
      "mkl_fft                   1.3.1            py37h277e83a_0    anaconda\n",
      "mkl_random                1.2.2            py37hf11a4ad_0    anaconda\n",
      "nest-asyncio              1.5.5            py37haa95532_0  \n",
      "nltk                      3.7                pyhd3eb1b0_0    anaconda\n",
      "numexpr                   2.8.1            py37hb80d3ca_2    anaconda\n",
      "numpy                     1.21.5           py37h7a0a035_3    anaconda\n",
      "numpy-base                1.21.5           py37hca35cd5_3    anaconda\n",
      "openssl                   1.1.1q               h2bbff1b_0  \n",
      "outcome                   1.2.0              pyhd8ed1ab_0    conda-forge\n",
      "packaging                 21.3               pyhd3eb1b0_0  \n",
      "pandas                    1.3.5            py37h6214cd6_0    anaconda\n",
      "parso                     0.8.3              pyhd3eb1b0_0  \n",
      "pickleshare               0.7.5           pyhd3eb1b0_1003  \n",
      "pillow                    9.2.0            py37hdc2b20a_1  \n",
      "pip                       22.2.2           py37haa95532_0  \n",
      "prompt-toolkit            3.0.20             pyhd3eb1b0_0  \n",
      "psutil                    5.9.0            py37h2bbff1b_0  \n",
      "pycparser                 2.21               pyhd8ed1ab_0    conda-forge\n",
      "pygments                  2.11.2             pyhd3eb1b0_0  \n",
      "pyopenssl                 22.0.0             pyhd8ed1ab_1    conda-forge\n",
      "pyparsing                 3.0.9            py37haa95532_0  \n",
      "pyqt                      5.12.3           py37h1834ac0_4    conda-forge\n",
      "pyqt5-sip                 4.19.18                  pypi_0    pypi\n",
      "pyqtchart                 5.12                     pypi_0    pypi\n",
      "pyqtwebengine             5.12.1                   pypi_0    pypi\n",
      "pysocks                   1.7.1            py37h03978a9_5    conda-forge\n",
      "python                    3.7.13               h6244533_0  \n",
      "python-dateutil           2.8.2              pyhd3eb1b0_0  \n",
      "python-dotenv             0.21.0             pyhd8ed1ab_0    conda-forge\n",
      "python_abi                3.7                     2_cp37m    conda-forge\n",
      "pytz                      2022.1           py37haa95532_0    anaconda\n",
      "pywin32                   302              py37h2bbff1b_2  \n",
      "pyzmq                     23.2.0           py37hd77b12b_0  \n",
      "qt                        5.12.9               h5909a2a_4    conda-forge\n",
      "regex                     2022.3.15        py37h2bbff1b_0    anaconda\n",
      "requests                  2.28.1             pyhd8ed1ab_1    conda-forge\n",
      "selenium                  4.5.0              pyhd8ed1ab_0    conda-forge\n",
      "setuptools                63.4.1           py37haa95532_0  \n",
      "six                       1.16.0             pyhd3eb1b0_1  \n",
      "sniffio                   1.3.0              pyhd8ed1ab_0    conda-forge\n",
      "sortedcontainers          2.4.0              pyhd8ed1ab_0    conda-forge\n",
      "soupsieve                 2.3.1              pyhd3eb1b0_0    anaconda\n",
      "sqlite                    3.39.3               h2bbff1b_0  \n",
      "tk                        8.6.12               h8ffe710_0    conda-forge\n",
      "tornado                   6.2              py37h2bbff1b_0  \n",
      "tqdm                      4.64.1             pyhd8ed1ab_0    conda-forge\n",
      "traitlets                 5.1.1              pyhd3eb1b0_0  \n",
      "trio                      0.22.0           py37h03978a9_0    conda-forge\n",
      "trio-websocket            0.9.2              pyhd8ed1ab_0    conda-forge\n",
      "typing-extensions         4.4.0                hd8ed1ab_0    conda-forge\n",
      "typing_extensions         4.4.0              pyha770c72_0    conda-forge\n",
      "urllib3                   1.26.11            pyhd8ed1ab_0    conda-forge\n",
      "vc                        14.2                 h21ff451_1  \n",
      "vs2015_runtime            14.27.29016          h5e58377_2  \n",
      "wcwidth                   0.2.5              pyhd3eb1b0_0  \n",
      "webdriver-manager         3.8.4              pyhd8ed1ab_0    conda-forge\n",
      "wheel                     0.37.1             pyhd3eb1b0_0  \n",
      "win_inet_pton             1.1.0            py37h03978a9_4    conda-forge\n",
      "wincertstore              0.2              py37haa95532_2  \n",
      "wordcloud                 1.8.2.2          py37hcc03f2d_0    conda-forge\n",
      "wsproto                   1.2.0              pyhd8ed1ab_0    conda-forge\n",
      "zeromq                    4.3.4                hd77b12b_0  \n",
      "zipp                      3.9.0              pyhd8ed1ab_0    conda-forge\n",
      "zlib                      1.2.11            h8d14728_1011    conda-forge\n"
     ]
    }
   ],
   "source": [
    "!conda list"
   ]
  },
  {
   "cell_type": "code",
   "execution_count": null,
   "metadata": {},
   "outputs": [],
   "source": [
    "kw_model = KeyBERT()\n",
    "keywords = kw_model.extract_keywords()"
   ]
  },
  {
   "cell_type": "code",
   "execution_count": null,
   "metadata": {},
   "outputs": [],
   "source": []
  },
  {
   "cell_type": "code",
   "execution_count": null,
   "metadata": {},
   "outputs": [],
   "source": []
  },
  {
   "cell_type": "code",
   "execution_count": null,
   "metadata": {},
   "outputs": [],
   "source": []
  },
  {
   "cell_type": "code",
   "execution_count": null,
   "metadata": {},
   "outputs": [],
   "source": []
  },
  {
   "cell_type": "code",
   "execution_count": null,
   "metadata": {},
   "outputs": [],
   "source": []
  }
 ],
 "metadata": {
  "kernelspec": {
   "display_name": "Python 3.7.13 ('final')",
   "language": "python",
   "name": "python3"
  },
  "language_info": {
   "codemirror_mode": {
    "name": "ipython",
    "version": 3
   },
   "file_extension": ".py",
   "mimetype": "text/x-python",
   "name": "python",
   "nbconvert_exporter": "python",
   "pygments_lexer": "ipython3",
   "version": "3.7.13"
  },
  "orig_nbformat": 4,
  "vscode": {
   "interpreter": {
    "hash": "4c5d292433a8ddcc1675e1c3b36ec13bf3f1c003e8eead3bc3fefbe0799906b7"
   }
  }
 },
 "nbformat": 4,
 "nbformat_minor": 2
}
