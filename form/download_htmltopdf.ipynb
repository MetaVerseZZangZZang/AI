{
 "cells": [
  {
   "cell_type": "code",
   "execution_count": 4,
   "metadata": {
    "collapsed": true
   },
   "outputs": [],
   "source": [
    "#-*- coding: utf-8 -*-\n",
    "import aspose.words as aw"
   ]
  },
  {
   "cell_type": "code",
   "execution_count": 5,
   "outputs": [],
   "source": [
    "doc = aw.Document(\"./html5up-stellar/index.html\")"
   ],
   "metadata": {
    "collapsed": false
   }
  },
  {
   "cell_type": "code",
   "execution_count": 6,
   "outputs": [
    {
     "data": {
      "text/plain": "<aspose.words.saving.SaveOutputParameters object at 0x0000029C1F772030>"
     },
     "execution_count": 6,
     "metadata": {},
     "output_type": "execute_result"
    }
   ],
   "source": [
    "doc.save(\"html-to-pdf.pdf\")"
   ],
   "metadata": {
    "collapsed": false
   }
  },
  {
   "cell_type": "code",
   "execution_count": 7,
   "outputs": [],
   "source": [
    "import pdfkit"
   ],
   "metadata": {
    "collapsed": false
   }
  },
  {
   "cell_type": "code",
   "execution_count": 11,
   "outputs": [
    {
     "name": "stdout",
     "output_type": "stream",
     "text": [
      "\n",
      "-----\n",
      "\n",
      "WeasyPrint could not import some external libraries. Please carefully follow the installation steps before reporting an issue:\n",
      "https://doc.courtbouillon.org/weasyprint/stable/first_steps.html#installation\n",
      "https://doc.courtbouillon.org/weasyprint/stable/first_steps.html#troubleshooting \n",
      "\n",
      "-----\n",
      "\n"
     ]
    },
    {
     "ename": "OSError",
     "evalue": "ctypes.util.find_library() did not manage to locate a library called 'fontconfig-1'",
     "output_type": "error",
     "traceback": [
      "\u001B[1;31m---------------------------------------------------------------------------\u001B[0m",
      "\u001B[1;31mOSError\u001B[0m                                   Traceback (most recent call last)",
      "\u001B[1;32m~\\AppData\\Local\\Temp\\ipykernel_17540\\4195039069.py\u001B[0m in \u001B[0;36m<module>\u001B[1;34m\u001B[0m\n\u001B[1;32m----> 1\u001B[1;33m \u001B[1;32mimport\u001B[0m \u001B[0mweasyprint\u001B[0m\u001B[1;33m\u001B[0m\u001B[1;33m\u001B[0m\u001B[0m\n\u001B[0m",
      "\u001B[1;32m~\\miniconda3\\envs\\final\\lib\\site-packages\\weasyprint\\__init__.py\u001B[0m in \u001B[0;36m<module>\u001B[1;34m\u001B[0m\n\u001B[0;32m    334\u001B[0m \u001B[1;33m\u001B[0m\u001B[0m\n\u001B[0;32m    335\u001B[0m \u001B[1;31m# Work around circular imports.\u001B[0m\u001B[1;33m\u001B[0m\u001B[1;33m\u001B[0m\u001B[1;33m\u001B[0m\u001B[0m\n\u001B[1;32m--> 336\u001B[1;33m \u001B[1;32mfrom\u001B[0m \u001B[1;33m.\u001B[0m\u001B[0mcss\u001B[0m \u001B[1;32mimport\u001B[0m \u001B[0mpreprocess_stylesheet\u001B[0m  \u001B[1;31m# noqa isort:skip\u001B[0m\u001B[1;33m\u001B[0m\u001B[1;33m\u001B[0m\u001B[0m\n\u001B[0m\u001B[0;32m    337\u001B[0m from .html import (  # noqa isort:skip\n\u001B[0;32m    338\u001B[0m     HTML5_UA_COUNTER_STYLE, HTML5_UA_STYLESHEET, HTML5_PH_STYLESHEET)\n",
      "\u001B[1;32m~\\miniconda3\\envs\\final\\lib\\site-packages\\weasyprint\\css\\__init__.py\u001B[0m in \u001B[0;36m<module>\u001B[1;34m\u001B[0m\n\u001B[0;32m     23\u001B[0m \u001B[1;32mfrom\u001B[0m \u001B[1;33m.\u001B[0m\u001B[1;33m.\u001B[0m\u001B[0mlogger\u001B[0m \u001B[1;32mimport\u001B[0m \u001B[0mLOGGER\u001B[0m\u001B[1;33m,\u001B[0m \u001B[0mPROGRESS_LOGGER\u001B[0m\u001B[1;33m\u001B[0m\u001B[1;33m\u001B[0m\u001B[0m\n\u001B[0;32m     24\u001B[0m \u001B[1;32mfrom\u001B[0m \u001B[1;33m.\u001B[0m\u001B[1;33m.\u001B[0m\u001B[0murls\u001B[0m \u001B[1;32mimport\u001B[0m \u001B[0mURLFetchingError\u001B[0m\u001B[1;33m,\u001B[0m \u001B[0mget_url_attribute\u001B[0m\u001B[1;33m,\u001B[0m \u001B[0murl_join\u001B[0m\u001B[1;33m\u001B[0m\u001B[1;33m\u001B[0m\u001B[0m\n\u001B[1;32m---> 25\u001B[1;33m \u001B[1;32mfrom\u001B[0m \u001B[1;33m.\u001B[0m \u001B[1;32mimport\u001B[0m \u001B[0mcomputed_values\u001B[0m\u001B[1;33m,\u001B[0m \u001B[0mcounters\u001B[0m\u001B[1;33m,\u001B[0m \u001B[0mmedia_queries\u001B[0m\u001B[1;33m\u001B[0m\u001B[1;33m\u001B[0m\u001B[0m\n\u001B[0m\u001B[0;32m     26\u001B[0m \u001B[1;32mfrom\u001B[0m \u001B[1;33m.\u001B[0m\u001B[0mproperties\u001B[0m \u001B[1;32mimport\u001B[0m \u001B[0mINHERITED\u001B[0m\u001B[1;33m,\u001B[0m \u001B[0mINITIAL_NOT_COMPUTED\u001B[0m\u001B[1;33m,\u001B[0m \u001B[0mINITIAL_VALUES\u001B[0m\u001B[1;33m\u001B[0m\u001B[1;33m\u001B[0m\u001B[0m\n\u001B[0;32m     27\u001B[0m \u001B[1;32mfrom\u001B[0m \u001B[1;33m.\u001B[0m\u001B[0mutils\u001B[0m \u001B[1;32mimport\u001B[0m \u001B[0mget_url\u001B[0m\u001B[1;33m,\u001B[0m \u001B[0mremove_whitespace\u001B[0m\u001B[1;33m\u001B[0m\u001B[1;33m\u001B[0m\u001B[0m\n",
      "\u001B[1;32m~\\miniconda3\\envs\\final\\lib\\site-packages\\weasyprint\\css\\computed_values.py\u001B[0m in \u001B[0;36m<module>\u001B[1;34m\u001B[0m\n\u001B[0;32m      9\u001B[0m \u001B[1;33m\u001B[0m\u001B[0m\n\u001B[0;32m     10\u001B[0m \u001B[1;32mfrom\u001B[0m \u001B[1;33m.\u001B[0m\u001B[1;33m.\u001B[0m\u001B[0mlogger\u001B[0m \u001B[1;32mimport\u001B[0m \u001B[0mLOGGER\u001B[0m\u001B[1;33m\u001B[0m\u001B[1;33m\u001B[0m\u001B[0m\n\u001B[1;32m---> 11\u001B[1;33m \u001B[1;32mfrom\u001B[0m \u001B[1;33m.\u001B[0m\u001B[1;33m.\u001B[0m\u001B[0mtext\u001B[0m\u001B[1;33m.\u001B[0m\u001B[0mffi\u001B[0m \u001B[1;32mimport\u001B[0m \u001B[0mffi\u001B[0m\u001B[1;33m,\u001B[0m \u001B[0mpango\u001B[0m\u001B[1;33m,\u001B[0m \u001B[0munits_to_double\u001B[0m\u001B[1;33m\u001B[0m\u001B[1;33m\u001B[0m\u001B[0m\n\u001B[0m\u001B[0;32m     12\u001B[0m \u001B[1;32mfrom\u001B[0m \u001B[1;33m.\u001B[0m\u001B[1;33m.\u001B[0m\u001B[0mtext\u001B[0m\u001B[1;33m.\u001B[0m\u001B[0mline_break\u001B[0m \u001B[1;32mimport\u001B[0m \u001B[0mLayout\u001B[0m\u001B[1;33m,\u001B[0m \u001B[0mfirst_line_metrics\u001B[0m\u001B[1;33m\u001B[0m\u001B[1;33m\u001B[0m\u001B[0m\n\u001B[0;32m     13\u001B[0m \u001B[1;32mfrom\u001B[0m \u001B[1;33m.\u001B[0m\u001B[1;33m.\u001B[0m\u001B[0murls\u001B[0m \u001B[1;32mimport\u001B[0m \u001B[0mget_link_attribute\u001B[0m\u001B[1;33m\u001B[0m\u001B[1;33m\u001B[0m\u001B[0m\n",
      "\u001B[1;32m~\\miniconda3\\envs\\final\\lib\\site-packages\\weasyprint\\text\\ffi.py\u001B[0m in \u001B[0;36m<module>\u001B[1;34m\u001B[0m\n\u001B[0;32m    428\u001B[0m fontconfig = _dlopen(\n\u001B[0;32m    429\u001B[0m     \u001B[0mffi\u001B[0m\u001B[1;33m,\u001B[0m \u001B[1;34m'fontconfig-1'\u001B[0m\u001B[1;33m,\u001B[0m \u001B[1;34m'fontconfig'\u001B[0m\u001B[1;33m,\u001B[0m \u001B[1;34m'libfontconfig'\u001B[0m\u001B[1;33m,\u001B[0m \u001B[1;34m'libfontconfig.so.1'\u001B[0m\u001B[1;33m,\u001B[0m\u001B[1;33m\u001B[0m\u001B[1;33m\u001B[0m\u001B[0m\n\u001B[1;32m--> 430\u001B[1;33m     'libfontconfig.1.dylib', 'libfontconfig-1.dll')\n\u001B[0m\u001B[0;32m    431\u001B[0m pangoft2 = _dlopen(\n\u001B[0;32m    432\u001B[0m     \u001B[0mffi\u001B[0m\u001B[1;33m,\u001B[0m \u001B[1;34m'pangoft2-1.0-0'\u001B[0m\u001B[1;33m,\u001B[0m \u001B[1;34m'pangoft2-1.0'\u001B[0m\u001B[1;33m,\u001B[0m \u001B[1;34m'libpangoft2-1.0-0'\u001B[0m\u001B[1;33m,\u001B[0m\u001B[1;33m\u001B[0m\u001B[1;33m\u001B[0m\u001B[0m\n",
      "\u001B[1;32m~\\miniconda3\\envs\\final\\lib\\site-packages\\weasyprint\\text\\ffi.py\u001B[0m in \u001B[0;36m_dlopen\u001B[1;34m(ffi, *names)\u001B[0m\n\u001B[0;32m    405\u001B[0m         \u001B[1;34m'first_steps.html#troubleshooting'\u001B[0m\u001B[1;33m,\u001B[0m\u001B[1;33m\u001B[0m\u001B[1;33m\u001B[0m\u001B[0m\n\u001B[0;32m    406\u001B[0m         '\\n\\n-----\\n')  # pragma: no cover\n\u001B[1;32m--> 407\u001B[1;33m     \u001B[1;32mreturn\u001B[0m \u001B[0mffi\u001B[0m\u001B[1;33m.\u001B[0m\u001B[0mdlopen\u001B[0m\u001B[1;33m(\u001B[0m\u001B[0mnames\u001B[0m\u001B[1;33m[\u001B[0m\u001B[1;36m0\u001B[0m\u001B[1;33m]\u001B[0m\u001B[1;33m)\u001B[0m  \u001B[1;31m# pragma: no cover\u001B[0m\u001B[1;33m\u001B[0m\u001B[1;33m\u001B[0m\u001B[0m\n\u001B[0m\u001B[0;32m    408\u001B[0m \u001B[1;33m\u001B[0m\u001B[0m\n\u001B[0;32m    409\u001B[0m \u001B[1;33m\u001B[0m\u001B[0m\n",
      "\u001B[1;32m~\\miniconda3\\envs\\final\\lib\\site-packages\\cffi\\api.py\u001B[0m in \u001B[0;36mdlopen\u001B[1;34m(self, name, flags)\u001B[0m\n\u001B[0;32m    148\u001B[0m                             \"or an already-opened 'void *' handle\")\n\u001B[0;32m    149\u001B[0m         \u001B[1;32mwith\u001B[0m \u001B[0mself\u001B[0m\u001B[1;33m.\u001B[0m\u001B[0m_lock\u001B[0m\u001B[1;33m:\u001B[0m\u001B[1;33m\u001B[0m\u001B[1;33m\u001B[0m\u001B[0m\n\u001B[1;32m--> 150\u001B[1;33m             \u001B[0mlib\u001B[0m\u001B[1;33m,\u001B[0m \u001B[0mfunction_cache\u001B[0m \u001B[1;33m=\u001B[0m \u001B[0m_make_ffi_library\u001B[0m\u001B[1;33m(\u001B[0m\u001B[0mself\u001B[0m\u001B[1;33m,\u001B[0m \u001B[0mname\u001B[0m\u001B[1;33m,\u001B[0m \u001B[0mflags\u001B[0m\u001B[1;33m)\u001B[0m\u001B[1;33m\u001B[0m\u001B[1;33m\u001B[0m\u001B[0m\n\u001B[0m\u001B[0;32m    151\u001B[0m             \u001B[0mself\u001B[0m\u001B[1;33m.\u001B[0m\u001B[0m_function_caches\u001B[0m\u001B[1;33m.\u001B[0m\u001B[0mappend\u001B[0m\u001B[1;33m(\u001B[0m\u001B[0mfunction_cache\u001B[0m\u001B[1;33m)\u001B[0m\u001B[1;33m\u001B[0m\u001B[1;33m\u001B[0m\u001B[0m\n\u001B[0;32m    152\u001B[0m             \u001B[0mself\u001B[0m\u001B[1;33m.\u001B[0m\u001B[0m_libraries\u001B[0m\u001B[1;33m.\u001B[0m\u001B[0mappend\u001B[0m\u001B[1;33m(\u001B[0m\u001B[0mlib\u001B[0m\u001B[1;33m)\u001B[0m\u001B[1;33m\u001B[0m\u001B[1;33m\u001B[0m\u001B[0m\n",
      "\u001B[1;32m~\\miniconda3\\envs\\final\\lib\\site-packages\\cffi\\api.py\u001B[0m in \u001B[0;36m_make_ffi_library\u001B[1;34m(ffi, libname, flags)\u001B[0m\n\u001B[0;32m    830\u001B[0m \u001B[1;32mdef\u001B[0m \u001B[0m_make_ffi_library\u001B[0m\u001B[1;33m(\u001B[0m\u001B[0mffi\u001B[0m\u001B[1;33m,\u001B[0m \u001B[0mlibname\u001B[0m\u001B[1;33m,\u001B[0m \u001B[0mflags\u001B[0m\u001B[1;33m)\u001B[0m\u001B[1;33m:\u001B[0m\u001B[1;33m\u001B[0m\u001B[1;33m\u001B[0m\u001B[0m\n\u001B[0;32m    831\u001B[0m     \u001B[0mbackend\u001B[0m \u001B[1;33m=\u001B[0m \u001B[0mffi\u001B[0m\u001B[1;33m.\u001B[0m\u001B[0m_backend\u001B[0m\u001B[1;33m\u001B[0m\u001B[1;33m\u001B[0m\u001B[0m\n\u001B[1;32m--> 832\u001B[1;33m     \u001B[0mbackendlib\u001B[0m \u001B[1;33m=\u001B[0m \u001B[0m_load_backend_lib\u001B[0m\u001B[1;33m(\u001B[0m\u001B[0mbackend\u001B[0m\u001B[1;33m,\u001B[0m \u001B[0mlibname\u001B[0m\u001B[1;33m,\u001B[0m \u001B[0mflags\u001B[0m\u001B[1;33m)\u001B[0m\u001B[1;33m\u001B[0m\u001B[1;33m\u001B[0m\u001B[0m\n\u001B[0m\u001B[0;32m    833\u001B[0m     \u001B[1;31m#\u001B[0m\u001B[1;33m\u001B[0m\u001B[1;33m\u001B[0m\u001B[1;33m\u001B[0m\u001B[0m\n\u001B[0;32m    834\u001B[0m     \u001B[1;32mdef\u001B[0m \u001B[0maccessor_function\u001B[0m\u001B[1;33m(\u001B[0m\u001B[0mname\u001B[0m\u001B[1;33m)\u001B[0m\u001B[1;33m:\u001B[0m\u001B[1;33m\u001B[0m\u001B[1;33m\u001B[0m\u001B[0m\n",
      "\u001B[1;32m~\\miniconda3\\envs\\final\\lib\\site-packages\\cffi\\api.py\u001B[0m in \u001B[0;36m_load_backend_lib\u001B[1;34m(backend, name, flags)\u001B[0m\n\u001B[0;32m    825\u001B[0m         \u001B[1;32mif\u001B[0m \u001B[0mfirst_error\u001B[0m \u001B[1;32mis\u001B[0m \u001B[1;32mnot\u001B[0m \u001B[1;32mNone\u001B[0m\u001B[1;33m:\u001B[0m\u001B[1;33m\u001B[0m\u001B[1;33m\u001B[0m\u001B[0m\n\u001B[0;32m    826\u001B[0m             \u001B[0mmsg\u001B[0m \u001B[1;33m=\u001B[0m \u001B[1;34m\"%s.  Additionally, %s\"\u001B[0m \u001B[1;33m%\u001B[0m \u001B[1;33m(\u001B[0m\u001B[0mfirst_error\u001B[0m\u001B[1;33m,\u001B[0m \u001B[0mmsg\u001B[0m\u001B[1;33m)\u001B[0m\u001B[1;33m\u001B[0m\u001B[1;33m\u001B[0m\u001B[0m\n\u001B[1;32m--> 827\u001B[1;33m         \u001B[1;32mraise\u001B[0m \u001B[0mOSError\u001B[0m\u001B[1;33m(\u001B[0m\u001B[0mmsg\u001B[0m\u001B[1;33m)\u001B[0m\u001B[1;33m\u001B[0m\u001B[1;33m\u001B[0m\u001B[0m\n\u001B[0m\u001B[0;32m    828\u001B[0m     \u001B[1;32mreturn\u001B[0m \u001B[0mbackend\u001B[0m\u001B[1;33m.\u001B[0m\u001B[0mload_library\u001B[0m\u001B[1;33m(\u001B[0m\u001B[0mpath\u001B[0m\u001B[1;33m,\u001B[0m \u001B[0mflags\u001B[0m\u001B[1;33m)\u001B[0m\u001B[1;33m\u001B[0m\u001B[1;33m\u001B[0m\u001B[0m\n\u001B[0;32m    829\u001B[0m \u001B[1;33m\u001B[0m\u001B[0m\n",
      "\u001B[1;31mOSError\u001B[0m: ctypes.util.find_library() did not manage to locate a library called 'fontconfig-1'"
     ]
    }
   ],
   "source": [
    "import weasyprint"
   ],
   "metadata": {
    "collapsed": false
   }
  },
  {
   "cell_type": "code",
   "execution_count": null,
   "outputs": [],
   "source": [
    "doc_pdf = weasyprint.HTML('https://www.delftstack.com/').write_pdf('sample.pdf')"
   ],
   "metadata": {
    "collapsed": false
   }
  },
  {
   "cell_type": "code",
   "execution_count": 15,
   "outputs": [],
   "source": [
    "import sys\n",
    "from PyQt5.QtCore import *\n",
    "from PyQt5.QtGui import *\n",
    "from PyQt5.QtWebKit import *\n",
    "\n",
    "import os\n",
    "import sys\n",
    "from PyQt5.QtWidgets import QApplication\n",
    "from PyQt5.QtWebKitWidgets import QWebView\n",
    "from PyQt5.QtGui import QIcon\n",
    "from PyQt5.QtCore import QUrl\n",
    "from PyQt5.QtCore import QSize"
   ],
   "metadata": {
    "collapsed": false
   }
  },
  {
   "cell_type": "code",
   "execution_count": 14,
   "outputs": [
    {
     "ename": "NameError",
     "evalue": "name 'QApplication' is not defined",
     "output_type": "error",
     "traceback": [
      "\u001B[1;31m---------------------------------------------------------------------------\u001B[0m",
      "\u001B[1;31mNameError\u001B[0m                                 Traceback (most recent call last)",
      "\u001B[1;32m~\\AppData\\Local\\Temp\\ipykernel_17540\\2171177772.py\u001B[0m in \u001B[0;36m<module>\u001B[1;34m\u001B[0m\n\u001B[1;32m----> 1\u001B[1;33m \u001B[0mapp\u001B[0m \u001B[1;33m=\u001B[0m \u001B[0mQApplication\u001B[0m\u001B[1;33m(\u001B[0m\u001B[0msys\u001B[0m\u001B[1;33m.\u001B[0m\u001B[0margv\u001B[0m\u001B[1;33m)\u001B[0m\u001B[1;33m\u001B[0m\u001B[1;33m\u001B[0m\u001B[0m\n\u001B[0m\u001B[0;32m      2\u001B[0m \u001B[0mw\u001B[0m \u001B[1;33m=\u001B[0m \u001B[0mQWebView\u001B[0m\u001B[1;33m(\u001B[0m\u001B[1;33m)\u001B[0m\u001B[1;33m\u001B[0m\u001B[1;33m\u001B[0m\u001B[0m\n\u001B[0;32m      3\u001B[0m \u001B[0mw\u001B[0m\u001B[1;33m.\u001B[0m\u001B[0mload\u001B[0m\u001B[1;33m(\u001B[0m\u001B[0mQUrl\u001B[0m\u001B[1;33m(\u001B[0m\u001B[1;34m'./html5up-stellar/index.html'\u001B[0m\u001B[1;33m)\u001B[0m\u001B[1;33m)\u001B[0m\u001B[1;33m\u001B[0m\u001B[1;33m\u001B[0m\u001B[0m\n\u001B[0;32m      4\u001B[0m \u001B[0mp\u001B[0m \u001B[1;33m=\u001B[0m \u001B[0mQp\u001B[0m\u001B[1;33m(\u001B[0m\u001B[1;33m)\u001B[0m\u001B[1;33m\u001B[0m\u001B[1;33m\u001B[0m\u001B[0m\n\u001B[0;32m      5\u001B[0m \u001B[0mp\u001B[0m\u001B[1;33m.\u001B[0m\u001B[0msetPageSize\u001B[0m\u001B[1;33m(\u001B[0m\u001B[0mQp\u001B[0m\u001B[1;33m.\u001B[0m\u001B[0mA4\u001B[0m\u001B[1;33m)\u001B[0m\u001B[1;33m\u001B[0m\u001B[1;33m\u001B[0m\u001B[0m\n",
      "\u001B[1;31mNameError\u001B[0m: name 'QApplication' is not defined"
     ]
    }
   ],
   "source": [
    "app = QCoreApplication(sys.argv)\n",
    "w = QWebView()\n",
    "w.load(QUrl('./html5up-stellar/index.html'))\n",
    "p = Qp()\n",
    "p.setPageSize(Qp.A4)\n",
    "p.setOutputFormat(Qp.PdfFormat)\n",
    "p.setOutputFileName(\"sample.pdf\")\n",
    "\n",
    "def convertIt():\n",
    "    w.print_(p)\n",
    "    QApplication.exit()\n",
    "\n",
    "QObject.connect(w, SIGNAL(\"loadFinished(bool)\"), convertIt)\n",
    "sys.exit(app.exec_())"
   ],
   "metadata": {
    "collapsed": false
   }
  }
 ],
 "metadata": {
  "kernelspec": {
   "name": "final",
   "language": "python",
   "display_name": "final"
  },
  "language_info": {
   "codemirror_mode": {
    "name": "ipython",
    "version": 2
   },
   "file_extension": ".py",
   "mimetype": "text/x-python",
   "name": "python",
   "nbconvert_exporter": "python",
   "pygments_lexer": "ipython2",
   "version": "2.7.6"
  }
 },
 "nbformat": 4,
 "nbformat_minor": 0
}
